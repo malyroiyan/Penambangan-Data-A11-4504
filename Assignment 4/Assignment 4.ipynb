{
 "cells": [
  {
   "cell_type": "code",
   "execution_count": 58,
   "id": "b02bf0c8-670c-412f-b224-7e5fce78778a",
   "metadata": {},
   "outputs": [
    {
     "data": {
      "text/html": [
       "<div>\n",
       "<style scoped>\n",
       "    .dataframe tbody tr th:only-of-type {\n",
       "        vertical-align: middle;\n",
       "    }\n",
       "\n",
       "    .dataframe tbody tr th {\n",
       "        vertical-align: top;\n",
       "    }\n",
       "\n",
       "    .dataframe thead th {\n",
       "        text-align: right;\n",
       "    }\n",
       "</style>\n",
       "<table border=\"1\" class=\"dataframe\">\n",
       "  <thead>\n",
       "    <tr style=\"text-align: right;\">\n",
       "      <th></th>\n",
       "      <th>Tahun</th>\n",
       "      <th>Produksi Padi(Ton)</th>\n",
       "    </tr>\n",
       "  </thead>\n",
       "  <tbody>\n",
       "    <tr>\n",
       "      <th>0</th>\n",
       "      <td>1970</td>\n",
       "      <td>18693649.0</td>\n",
       "    </tr>\n",
       "    <tr>\n",
       "      <th>1</th>\n",
       "      <td>1971</td>\n",
       "      <td>20483687.0</td>\n",
       "    </tr>\n",
       "    <tr>\n",
       "      <th>2</th>\n",
       "      <td>1972</td>\n",
       "      <td>19393933.0</td>\n",
       "    </tr>\n",
       "    <tr>\n",
       "      <th>3</th>\n",
       "      <td>1973</td>\n",
       "      <td>21490578.0</td>\n",
       "    </tr>\n",
       "    <tr>\n",
       "      <th>4</th>\n",
       "      <td>1974</td>\n",
       "      <td>22476073.0</td>\n",
       "    </tr>\n",
       "  </tbody>\n",
       "</table>\n",
       "</div>"
      ],
      "text/plain": [
       "   Tahun  Produksi Padi(Ton)\n",
       "0   1970          18693649.0\n",
       "1   1971          20483687.0\n",
       "2   1972          19393933.0\n",
       "3   1973          21490578.0\n",
       "4   1974          22476073.0"
      ]
     },
     "execution_count": 58,
     "metadata": {},
     "output_type": "execute_result"
    }
   ],
   "source": [
    "import pandas as pd\n",
    "import numpy as np\n",
    "import matplotlib.pyplot as plt\n",
    "from sklearn.model_selection import train_test_split\n",
    "from sklearn.linear_model import LinearRegression\n",
    "from sklearn.metrics import mean_squared_error, mean_absolute_percentage_error\n",
    "\n",
    "data = pd.read_excel('produksiPadi.xlsx')\n",
    "\n",
    "data.head()\n"
   ]
  },
  {
   "cell_type": "code",
   "execution_count": 59,
   "id": "0ce41d66-e865-4aa0-82be-018ce7717bbc",
   "metadata": {},
   "outputs": [
    {
     "data": {
      "text/html": [
       "<div>\n",
       "<style scoped>\n",
       "    .dataframe tbody tr th:only-of-type {\n",
       "        vertical-align: middle;\n",
       "    }\n",
       "\n",
       "    .dataframe tbody tr th {\n",
       "        vertical-align: top;\n",
       "    }\n",
       "\n",
       "    .dataframe thead th {\n",
       "        text-align: right;\n",
       "    }\n",
       "</style>\n",
       "<table border=\"1\" class=\"dataframe\">\n",
       "  <thead>\n",
       "    <tr style=\"text-align: right;\">\n",
       "      <th></th>\n",
       "      <th>Tahun</th>\n",
       "      <th>Produksi Padi(Ton)</th>\n",
       "    </tr>\n",
       "  </thead>\n",
       "  <tbody>\n",
       "    <tr>\n",
       "      <th>count</th>\n",
       "      <td>53.000000</td>\n",
       "      <td>5.300000e+01</td>\n",
       "    </tr>\n",
       "    <tr>\n",
       "      <th>mean</th>\n",
       "      <td>1996.000000</td>\n",
       "      <td>4.694139e+07</td>\n",
       "    </tr>\n",
       "    <tr>\n",
       "      <th>std</th>\n",
       "      <td>15.443445</td>\n",
       "      <td>1.632983e+07</td>\n",
       "    </tr>\n",
       "    <tr>\n",
       "      <th>min</th>\n",
       "      <td>1970.000000</td>\n",
       "      <td>1.869365e+07</td>\n",
       "    </tr>\n",
       "    <tr>\n",
       "      <th>25%</th>\n",
       "      <td>1983.000000</td>\n",
       "      <td>3.530311e+07</td>\n",
       "    </tr>\n",
       "    <tr>\n",
       "      <th>50%</th>\n",
       "      <td>1996.000000</td>\n",
       "      <td>4.937705e+07</td>\n",
       "    </tr>\n",
       "    <tr>\n",
       "      <th>75%</th>\n",
       "      <td>2009.000000</td>\n",
       "      <td>5.460403e+07</td>\n",
       "    </tr>\n",
       "    <tr>\n",
       "      <th>max</th>\n",
       "      <td>2022.000000</td>\n",
       "      <td>8.114862e+07</td>\n",
       "    </tr>\n",
       "  </tbody>\n",
       "</table>\n",
       "</div>"
      ],
      "text/plain": [
       "             Tahun  Produksi Padi(Ton)\n",
       "count    53.000000        5.300000e+01\n",
       "mean   1996.000000        4.694139e+07\n",
       "std      15.443445        1.632983e+07\n",
       "min    1970.000000        1.869365e+07\n",
       "25%    1983.000000        3.530311e+07\n",
       "50%    1996.000000        4.937705e+07\n",
       "75%    2009.000000        5.460403e+07\n",
       "max    2022.000000        8.114862e+07"
      ]
     },
     "execution_count": 59,
     "metadata": {},
     "output_type": "execute_result"
    }
   ],
   "source": [
    "data.describe()"
   ]
  },
  {
   "cell_type": "code",
   "execution_count": 60,
   "id": "14d10f76-6d05-413d-bae5-974b3ce40bd5",
   "metadata": {},
   "outputs": [
    {
     "name": "stdout",
     "output_type": "stream",
     "text": [
      "<class 'pandas.core.frame.DataFrame'>\n",
      "RangeIndex: 53 entries, 0 to 52\n",
      "Data columns (total 2 columns):\n",
      " #   Column              Non-Null Count  Dtype  \n",
      "---  ------              --------------  -----  \n",
      " 0   Tahun               53 non-null     int64  \n",
      " 1   Produksi Padi(Ton)  53 non-null     float64\n",
      "dtypes: float64(1), int64(1)\n",
      "memory usage: 980.0 bytes\n"
     ]
    }
   ],
   "source": [
    "data.info()"
   ]
  },
  {
   "cell_type": "code",
   "execution_count": 61,
   "id": "6505f9ea-cdb1-474f-981e-91f60964bbc7",
   "metadata": {},
   "outputs": [
    {
     "data": {
      "text/html": [
       "<div>\n",
       "<style scoped>\n",
       "    .dataframe tbody tr th:only-of-type {\n",
       "        vertical-align: middle;\n",
       "    }\n",
       "\n",
       "    .dataframe tbody tr th {\n",
       "        vertical-align: top;\n",
       "    }\n",
       "\n",
       "    .dataframe thead th {\n",
       "        text-align: right;\n",
       "    }\n",
       "</style>\n",
       "<table border=\"1\" class=\"dataframe\">\n",
       "  <thead>\n",
       "    <tr style=\"text-align: right;\">\n",
       "      <th></th>\n",
       "      <th>Tahun</th>\n",
       "      <th>Produksi Padi(Ton)</th>\n",
       "    </tr>\n",
       "  </thead>\n",
       "  <tbody>\n",
       "    <tr>\n",
       "      <th>Tahun</th>\n",
       "      <td>1.000000</td>\n",
       "      <td>0.918377</td>\n",
       "    </tr>\n",
       "    <tr>\n",
       "      <th>Produksi Padi(Ton)</th>\n",
       "      <td>0.918377</td>\n",
       "      <td>1.000000</td>\n",
       "    </tr>\n",
       "  </tbody>\n",
       "</table>\n",
       "</div>"
      ],
      "text/plain": [
       "                       Tahun  Produksi Padi(Ton)\n",
       "Tahun               1.000000            0.918377\n",
       "Produksi Padi(Ton)  0.918377            1.000000"
      ]
     },
     "execution_count": 61,
     "metadata": {},
     "output_type": "execute_result"
    }
   ],
   "source": [
    "data.corr()\n",
    "#nilai korelasi sangat tinggi 0.91, karena fitur hanya 2"
   ]
  },
  {
   "cell_type": "code",
   "execution_count": 62,
   "id": "f8a06acb-b0ed-4280-b65f-f150ec76fca7",
   "metadata": {},
   "outputs": [],
   "source": [
    "# Lagging\n",
    "# pengubahan data dengan lagging membantu model memahami hubungan langsung dengan produksi periode tahun sebelumnya.\n",
    "\n",
    "data['Produksi Lag-1'] = data['Produksi Padi(Ton)'].shift(1) #periode produksi 1 tahun sebelumnya\n",
    "data['Produksi Lag-2'] = data['Produksi Padi(Ton)'].shift(2) #periode produksi 2 tahun sebelumnya\n",
    "\n",
    "# Menghapus baris dengan NaN \n",
    "data_clear = data.dropna()\n",
    "\n",
    "# data setelah lagging\n",
    "data_clear.head(10)\n",
    "\n",
    "data_clear.to_excel('produksiPadi_lagged.xlsx', index=False)"
   ]
  },
  {
   "cell_type": "code",
   "execution_count": 63,
   "id": "88b6382f-96b7-40f0-be29-2630c741d4dc",
   "metadata": {},
   "outputs": [],
   "source": [
    "# Memisahkan fitur (X) dan target (y)\n",
    "X = data_clear[['Tahun','Produksi Lag-1','Produksi Lag-2']] #input\n",
    "y = data_clear['Produksi Padi(Ton)']\n",
    "\n",
    "# Split ratio 70:30 (70% training, 30% testing)\n",
    "X_train, X_test, y_train, y_test = train_test_split(X, y, test_size=0.3, random_state=42)"
   ]
  },
  {
   "cell_type": "code",
   "execution_count": 64,
   "id": "9aa63f24-7839-42c9-b557-de599e0f737e",
   "metadata": {},
   "outputs": [],
   "source": [
    "# Membuat model regresi linear\n",
    "model = LinearRegression()\n",
    "\n",
    "# Training model\n",
    "model.fit(X_train, y_train)\n",
    "\n",
    "# Memprediksi data testing\n",
    "y_pred_test = model.predict(X_test)"
   ]
  },
  {
   "cell_type": "code",
   "execution_count": 65,
   "id": "4fa35307-c025-494e-a291-b586da17f94d",
   "metadata": {},
   "outputs": [
    {
     "name": "stdout",
     "output_type": "stream",
     "text": [
      "[ 3.59798389e+04  1.18622070e+00 -2.07699634e-01]\n",
      "-70091804.48798814\n"
     ]
    }
   ],
   "source": [
    "print(model.coef_)\n",
    "print(model.intercept_)"
   ]
  },
  {
   "cell_type": "code",
   "execution_count": 66,
   "id": "447ff1b2-ba8b-4ae4-9dc8-c4d897d8c02e",
   "metadata": {},
   "outputs": [
    {
     "data": {
      "image/png": "[encoded data removed]",
      "text/plain": [
       "<Figure size 640x480 with 1 Axes>"
      ]
     },
     "metadata": {},
     "output_type": "display_data"
    }
   ],
   "source": [
    "model.score(X_test, y_test)\n",
    "\n",
    "# Scatter plot untuk data aktual vs prediksi\n",
    "plt.scatter(y_test, y_pred_test, color='blue', label='Aktual vs Prediksi')\n",
    "\n",
    "# Plot garis prediksi\n",
    "plt.plot([min(y_test), max(y_test)], [min(y_pred_test), max(y_pred_test)], color='r', linestyle='-', label='Line of Best Fit')\n",
    "\n",
    "plt.xlabel('Produksi Padi Aktual (Ton)')\n",
    "plt.ylabel('Produksi Padi Prediksi (Ton)')\n",
    "plt.legend()\n",
    "plt.title('Scatter Plot Aktual vs Prediksi')\n",
    "plt.show()\n"
   ]
  },
  {
   "cell_type": "code",
   "execution_count": 67,
   "id": "5bc7ff1f-2440-450d-8e70-aafcd5c85e03",
   "metadata": {},
   "outputs": [
    {
     "name": "stdout",
     "output_type": "stream",
     "text": [
      "MSE: 36651204389919.91\n",
      "RMSE: 6054023.818083301\n",
      "MAPE: 0.05640882265042309\n"
     ]
    }
   ],
   "source": [
    "# evaluasi\n",
    "mse_test = mean_squared_error(y_test, y_pred_test)\n",
    "rmse_test = np.sqrt(mse_test)\n",
    "mape_test = mean_absolute_percentage_error(y_test, y_pred_test)\n",
    "\n",
    "print(f'MSE: {mse_test}')\n",
    "print(f'RMSE: {rmse_test}')\n",
    "print(f'MAPE: {mape_test}')\n"
   ]
  },
  {
   "cell_type": "code",
   "execution_count": 68,
   "id": "5eb69027-cab7-41b5-ac2e-d65d9c8d0cb9",
   "metadata": {},
   "outputs": [
    {
     "name": "stdout",
     "output_type": "stream",
     "text": [
      "Prediksi Produksi Padi Tahun 2023: 55977968.541193366 ton\n"
     ]
    }
   ],
   "source": [
    "# jika ingin memprediksi tahun yang baru, karena menggunakan lag-1&2 sebagai fitur input\n",
    "# maka harus mengambil data periode tahun sebelumnya untuk lag-1 dan periode 2 tahun sebelumnya untuk lag-2\n",
    "# sebagai inputan\n",
    "\n",
    "# Mengambil data produksi tahun 2022 dan 2021\n",
    "lag_1 = data_clear.loc[data_clear['Tahun'] == 2022, 'Produksi Padi(Ton)'].values[0]\n",
    "lag_2 = data_clear.loc[data_clear['Tahun'] == 2021, 'Produksi Padi(Ton)'].values[0]\n",
    "\n",
    "# Data input untuk prediksi tahun 2023\n",
    "input_2023 = pd.DataFrame({\n",
    "    'Tahun': [2023],  # Tahun 2023 sebagai input\n",
    "    'Produksi Lag-1': [lag_1],  # Produksi tahun 2022\n",
    "    'Produksi Lag-2': [lag_2]   # Produksi tahun 2021\n",
    "})\n",
    "\n",
    "# Prediksi Produksi Padi Tahun 2023\n",
    "prediksi_2023 = model.predict(input_2023)[0]\n",
    "print(f\"Prediksi Produksi Padi Tahun 2023: {prediksi_2023} ton\")\n"
   ]
  },
  {
   "cell_type": "code",
   "execution_count": 69,
   "id": "e0b338be-4774-4862-8ab9-cf8d2cdd8468",
   "metadata": {},
   "outputs": [
    {
     "name": "stdout",
     "output_type": "stream",
     "text": [
      "Prediksi Produksi Padi Tahun 2024: 57847546.2765041 ton\n"
     ]
    }
   ],
   "source": [
    "# Prediksi untuk tahun 2024, menggunakan prediksi tahun 2023 sebagai Lag-1\n",
    "\n",
    "input_2024 = pd.DataFrame({\n",
    "    'Tahun': [2024],  # Tahun 2024 sebagai input\n",
    "    'Produksi Lag-1': [prediksi_2023],  # Menggunakan prediksi 2023 sebagai input untuk Lag-1\n",
    "    'Produksi Lag-2': [data_clear.loc[data_clear['Tahun'] == 2022, 'Produksi Padi(Ton)'].values[0]]   # Produksi tahun 2022\n",
    "})\n",
    "\n",
    "# Prediksi Produksi Padi Tahun 2024\n",
    "prediksi_2024 = model.predict(input_2024)[0]\n",
    "print(f\"Prediksi Produksi Padi Tahun 2024: {prediksi_2024} ton\")"
   ]
  },
  {
   "cell_type": "code",
   "execution_count": null,
   "id": "e3b18a1b-b7c0-4bc0-8685-fb6a0db9313f",
   "metadata": {},
   "outputs": [],
   "source": []
  }
 ],
 "metadata": {
  "kernelspec": {
   "display_name": "Python 3 (ipykernel)",
   "language": "python",
   "name": "python3"
  },
  "language_info": {
   "codemirror_mode": {
    "name": "ipython",
    "version": 3
   },
   "file_extension": ".py",
   "mimetype": "text/x-python",
   "name": "python",
   "nbconvert_exporter": "python",
   "pygments_lexer": "ipython3",
   "version": "3.11.7"
  }
 },
 "nbformat": 4,
 "nbformat_minor": 5
}
