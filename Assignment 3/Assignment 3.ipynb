{
 "cells": [
  {
   "cell_type": "code",
   "execution_count": 167,
   "id": "c852cc32-199e-4e42-a6d3-f09eebc0294e",
   "metadata": {},
   "outputs": [
    {
     "name": "stdout",
     "output_type": "stream",
     "text": [
      "<class 'pandas.core.frame.DataFrame'>\n",
      "RangeIndex: 561 entries, 0 to 560\n",
      "Data columns (total 18 columns):\n",
      " #   Column                                  Non-Null Count  Dtype  \n",
      "---  ------                                  --------------  -----  \n",
      " 0   NO                                      561 non-null    int64  \n",
      " 1   NAMA                                    561 non-null    object \n",
      " 2   USIA                                    561 non-null    float64\n",
      " 3   PARITAS                                 561 non-null    int64  \n",
      " 4   JARAK KELAHIRAN                         561 non-null    int64  \n",
      " 5   PE/Non PE                               561 non-null    int64  \n",
      " 6   RIW HIPERTENSI_Tidak                    561 non-null    float64\n",
      " 7   RIW HIPERTENSI_Ya                       561 non-null    float64\n",
      " 8   RIW PE_Ada                              561 non-null    float64\n",
      " 9   RIW PE_Tidak                            561 non-null    float64\n",
      " 10  OBESITAS_Tidak                          561 non-null    float64\n",
      " 11  OBESITAS_Ya                             561 non-null    float64\n",
      " 12  RIW DM_Tidak                            561 non-null    float64\n",
      " 13  RIW DM_Ya                               561 non-null    float64\n",
      " 14  RIW HIPERTENSI/PE DALAM KELUARGA_Ada    561 non-null    float64\n",
      " 15  RIW HIPERTENSI/PE DALAM KELUARGA_Tidak  561 non-null    float64\n",
      " 16  SOSEK RENDAH_<UMR                       561 non-null    float64\n",
      " 17  SOSEK RENDAH_>UMR                       561 non-null    float64\n",
      "dtypes: float64(13), int64(4), object(1)\n",
      "memory usage: 79.0+ KB\n"
     ]
    }
   ],
   "source": [
    "# Import Library\n",
    "import pandas as pd\n",
    "from sklearn.model_selection import train_test_split\n",
    "from sklearn.naive_bayes import GaussianNB\n",
    "from sklearn.neighbors import KNeighborsClassifier\n",
    "from sklearn.tree import DecisionTreeClassifier\n",
    "from sklearn.metrics import accuracy_score, confusion_matrix\n",
    "\n",
    "data = pd.read_csv('datasets-jadi.csv')\n",
    "\n",
    "data.info()"
   ]
  },
  {
   "cell_type": "code",
   "execution_count": 168,
   "id": "3629f889-5c9e-406d-bcc2-ef7d62059214",
   "metadata": {},
   "outputs": [],
   "source": [
    "#Persiapan Modelling\n",
    "\n",
    "data = data.drop(['NAMA', 'NO'], axis=1) #dihapus karena tidak diperlukan untuk modeling\n",
    "\n",
    "# Pisahkan variabel target (Preeklamsi)\n",
    "X = data.drop('PE/Non PE', axis=1) \n",
    "y = data['PE/Non PE']\n",
    "\n",
    "# Train-Test Split 75% 25%\n",
    "X_train, X_test, y_train, y_test = train_test_split(X, y, test_size=0.25, random_state=42)\n"
   ]
  },
  {
   "cell_type": "code",
   "execution_count": 169,
   "id": "077b74b7-ad0d-4ce4-8430-49095d00e084",
   "metadata": {},
   "outputs": [
    {
     "name": "stdout",
     "output_type": "stream",
     "text": [
      "Akurasi Naive Bayes: 0.07801418439716312\n",
      "Akurasi: 7.80%\n",
      "\n",
      "Confusion Matrix Naive Bayes:\n",
      " [[  1 127]\n",
      " [  3  10]]\n"
     ]
    }
   ],
   "source": [
    "# Membangun Model Naive Bayes\n",
    "model_nb = GaussianNB()\n",
    "model_nb.fit(X_train, y_train)\n",
    "\n",
    "# Melakukan Prediksi\n",
    "y_pred_nb = model_nb.predict(X_test)\n",
    "\n",
    "# Akurasi\n",
    "accuracy_nb = accuracy_score(y_test, y_pred_nb)\n",
    "print(\"Akurasi Naive Bayes:\", accuracy_nb)\n",
    "percent_accuracy = \"{:.2f}%\".format(accuracy_nb * 100)\n",
    "print(f\"Akurasi: {percent_accuracy}\")\n",
    "\n",
    "# Confusion Matrix\n",
    "cm_nb = confusion_matrix(y_test, y_pred_nb)\n",
    "print(\"\\nConfusion Matrix Naive Bayes:\\n\", cm_nb)"
   ]
  },
  {
   "cell_type": "code",
   "execution_count": 170,
   "id": "e37ac774-cc92-4efa-8a7c-24fd332aa4f9",
   "metadata": {},
   "outputs": [
    {
     "name": "stdout",
     "output_type": "stream",
     "text": [
      "Akurasi KNN: 0.9148936170212766\n",
      "Akurasi: 91.49%\n",
      "\n",
      "Confusion Matrix KNN:\n",
      " [[127   1]\n",
      " [ 11   2]]\n"
     ]
    }
   ],
   "source": [
    "# Membangun Model KNN\n",
    "model_knn = KNeighborsClassifier(n_neighbors=5)  \n",
    "model_knn.fit(X_train, y_train)\n",
    "\n",
    "y_pred_knn = model_knn.predict(X_test)\n",
    "\n",
    "# Akurasi\n",
    "accuracy_knn = accuracy_score(y_test, y_pred_knn)\n",
    "print(\"Akurasi KNN:\", accuracy_knn)\n",
    "percent_accuracy = \"{:.2f}%\".format(accuracy_knn * 100)\n",
    "print(f\"Akurasi: {percent_accuracy}\")\n",
    "\n",
    "# Confusion Matrix\n",
    "cm_knn = confusion_matrix(y_test, y_pred_knn)\n",
    "print(\"\\nConfusion Matrix KNN:\\n\", cm_knn)"
   ]
  },
  {
   "cell_type": "code",
   "execution_count": 171,
   "id": "806962d3-f069-4d5a-a06e-115aaf17ff39",
   "metadata": {},
   "outputs": [
    {
     "name": "stdout",
     "output_type": "stream",
     "text": [
      "Akurasi Decision Tree: 0.9078014184397163\n",
      "Akurasi: 91.49%\n",
      "\n",
      "Confusion Matrix Decision Tree:\n",
      " [[122   6]\n",
      " [  7   6]]\n"
     ]
    }
   ],
   "source": [
    "# Membangun Model Decision Tree\n",
    "model_dt = DecisionTreeClassifier()\n",
    "model_dt.fit(X_train, y_train)\n",
    "\n",
    "y_pred_dt = model_dt.predict(X_test)\n",
    "\n",
    "# Akurasi\n",
    "accuracy_dt = accuracy_score(y_test, y_pred_dt)\n",
    "print(\"Akurasi Decision Tree:\", accuracy_dt)\n",
    "percent_accuracy = \"{:.2f}%\".format(accuracy_knn * 100)\n",
    "print(f\"Akurasi: {percent_accuracy}\")\n",
    "\n",
    "# Confusion Matrix\n",
    "cm_dt = confusion_matrix(y_test, y_pred_dt)\n",
    "print(\"\\nConfusion Matrix Decision Tree:\\n\", cm_dt)"
   ]
  },
  {
   "cell_type": "code",
   "execution_count": 172,
   "id": "05f91ed4-5b16-4c04-9a0f-5b3fa6babd5e",
   "metadata": {},
   "outputs": [
    {
     "name": "stdout",
     "output_type": "stream",
     "text": [
      "                                   Fitur        Skor\n",
      "5                             RIW PE_Ada  193.911607\n",
      "4                      RIW HIPERTENSI_Ya  124.314050\n",
      "11  RIW HIPERTENSI/PE DALAM KELUARGA_Ada   36.232411\n",
      "8                            OBESITAS_Ya   20.492345\n",
      "3                   RIW HIPERTENSI_Tidak   12.969773\n"
     ]
    }
   ],
   "source": [
    "from sklearn.feature_selection import SelectKBest, chi2\n",
    "\n",
    "# Menerapkan SelectKBest\n",
    "k_best = 5 \n",
    "bestfeatures = SelectKBest(score_func=chi2, k=k_best)\n",
    "fit = bestfeatures.fit(X, y)\n",
    "\n",
    "# Membuat DataFrame untuk score dan nama kolom\n",
    "dfscores = pd.DataFrame(fit.scores_)\n",
    "dfcolumns = pd.DataFrame(X.columns)\n",
    "\n",
    "# Menggabungkan DataFrame\n",
    "featureScores = pd.concat([dfcolumns, dfscores], axis=1)\n",
    "featureScores.columns = ['Fitur', 'Skor'] \n",
    "\n",
    "# Menampilkan 5 fitur terbaik\n",
    "print(featureScores.nlargest(k_best, 'Skor'))"
   ]
  },
  {
   "cell_type": "code",
   "execution_count": 173,
   "id": "ab980ce9-14eb-42f8-96f9-640bd4026770",
   "metadata": {},
   "outputs": [],
   "source": [
    "# Buat DataFrame baru dengan fitur yang dipilih\n",
    "X_selected = X[featureScores.nlargest(k_best, 'Skor')['Fitur']]  \n",
    "\n",
    "# Train-Test Split dengan data baru (split data tetap sama)\n",
    "X_train, X_test, y_train, y_test = train_test_split(\n",
    "    X_selected, y, test_size=0.25, random_state=42\n",
    ")"
   ]
  },
  {
   "cell_type": "code",
   "execution_count": 174,
   "id": "f44f611f-f6d6-4820-9861-ccfb2cf14ee3",
   "metadata": {},
   "outputs": [
    {
     "name": "stdout",
     "output_type": "stream",
     "text": [
      "\n",
      "Naive Bayes - Akurasi: 0.8936170212765957\n",
      "Akurasi: 89.36%\n",
      "Confusion Matrix:\n",
      " [[116  12]\n",
      " [  3  10]]\n"
     ]
    }
   ],
   "source": [
    "#Naive Bayes setelah feature selection\n",
    "model_nb = GaussianNB()\n",
    "model_nb.fit(X_train, y_train)\n",
    "y_pred_nb = model_nb.predict(X_test)\n",
    "\n",
    "accuracy_nb = accuracy_score(y_test, y_pred_nb)\n",
    "cm_nb = confusion_matrix(y_test, y_pred_nb)\n",
    "\n",
    "print(\"\\nNaive Bayes - Akurasi:\", accuracy_nb)\n",
    "percent_accuracy = \"{:.2f}%\".format(accuracy_nb * 100)\n",
    "print(f\"Akurasi: {percent_accuracy}\")\n",
    "\n",
    "print(\"Confusion Matrix:\\n\", cm_nb)"
   ]
  },
  {
   "cell_type": "code",
   "execution_count": 175,
   "id": "4b4ac4e5-61ae-447b-a93c-3d17fec75d57",
   "metadata": {},
   "outputs": [
    {
     "name": "stdout",
     "output_type": "stream",
     "text": [
      "\n",
      "KNN - Akurasi: 0.9219858156028369\n",
      "Akurasi: 92.20%\n",
      "Confusion Matrix:\n",
      " [[125   3]\n",
      " [  8   5]]\n"
     ]
    }
   ],
   "source": [
    "# KNN setelah feature selection\n",
    "model_knn = KNeighborsClassifier(n_neighbors=5)  \n",
    "model_knn.fit(X_train, y_train)\n",
    "y_pred_knn = model_knn.predict(X_test)\n",
    "\n",
    "accuracy_knn = accuracy_score(y_test, y_pred_knn)\n",
    "cm_knn = confusion_matrix(y_test, y_pred_knn)\n",
    "\n",
    "print(\"\\nKNN - Akurasi:\", accuracy_knn)\n",
    "percent_accuracy = \"{:.2f}%\".format(accuracy_knn * 100)\n",
    "print(f\"Akurasi: {percent_accuracy}\")\n",
    "\n",
    "print(\"Confusion Matrix:\\n\", cm_knn)"
   ]
  },
  {
   "cell_type": "code",
   "execution_count": 176,
   "id": "9c91d24d-682d-4ee2-aea5-fd0f33fdc695",
   "metadata": {},
   "outputs": [
    {
     "name": "stdout",
     "output_type": "stream",
     "text": [
      "\n",
      "Decision Tree - Akurasi: 0.9290780141843972\n",
      "Akurasi: 92.91%\n",
      "Confusion Matrix:\n",
      " [[125   3]\n",
      " [  7   6]]\n"
     ]
    }
   ],
   "source": [
    "#Decision Tree setelah feature selection\n",
    "model_dt = DecisionTreeClassifier()\n",
    "model_dt.fit(X_train, y_train)\n",
    "y_pred_dt = model_dt.predict(X_test)\n",
    "\n",
    "accuracy_dt = accuracy_score(y_test, y_pred_dt)\n",
    "cm_dt = confusion_matrix(y_test, y_pred_dt)\n",
    "\n",
    "print(\"\\nDecision Tree - Akurasi:\", accuracy_dt)\n",
    "percent_accuracy = \"{:.2f}%\".format(accuracy_dt * 100)\n",
    "print(f\"Akurasi: {percent_accuracy}\")\n",
    "\n",
    "\n",
    "print(\"Confusion Matrix:\\n\", cm_dt)"
   ]
  },
  {
   "cell_type": "code",
   "execution_count": null,
   "id": "d4b6ee92-2861-40c2-886a-0d8f8ffbcd4f",
   "metadata": {},
   "outputs": [],
   "source": []
  }
 ],
 "metadata": {
  "kernelspec": {
   "display_name": "Python 3 (ipykernel)",
   "language": "python",
   "name": "python3"
  },
  "language_info": {
   "codemirror_mode": {
    "name": "ipython",
    "version": 3
   },
   "file_extension": ".py",
   "mimetype": "text/x-python",
   "name": "python",
   "nbconvert_exporter": "python",
   "pygments_lexer": "ipython3",
   "version": "3.11.7"
  }
 },
 "nbformat": 4,
 "nbformat_minor": 5
}
