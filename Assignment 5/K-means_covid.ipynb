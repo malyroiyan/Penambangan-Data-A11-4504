{
 "cells": [
  {
   "cell_type": "code",
   "execution_count": 27,
   "id": "c9fcc64f-d687-43c2-a43c-bd9eb5e2f672",
   "metadata": {},
   "outputs": [],
   "source": [
    "import pandas as pd\n",
    "import numpy as np\n",
    "from sklearn.preprocessing import MinMaxScaler\n",
    "from sklearn.cluster import KMeans\n",
    "import matplotlib.pyplot as plt\n",
    "\n",
    "covid = pd.read_csv('data_covid.csv')\n",
    "penduduk = pd.read_csv('jumlahPenduduk.csv')\n",
    "kepadatan = pd.read_csv('kepadatanPenduduk.csv')\n"
   ]
  },
  {
   "cell_type": "code",
   "execution_count": 28,
   "id": "dc71c3a7-13e0-49d1-a489-5626e8bc7202",
   "metadata": {},
   "outputs": [
    {
     "name": "stdout",
     "output_type": "stream",
     "text": [
      "<class 'pandas.core.frame.DataFrame'>\n",
      "RangeIndex: 8657 entries, 0 to 8656\n",
      "Data columns (total 14 columns):\n",
      " #   Column                           Non-Null Count  Dtype  \n",
      "---  ------                           --------------  -----  \n",
      " 0   Object_ID                        8622 non-null   float64\n",
      " 1   Provinsi                         8622 non-null   object \n",
      " 2   Tanggal                          8657 non-null   object \n",
      " 3   Kasus_Terkonfirmasi_Akumulatif   8622 non-null   float64\n",
      " 4   Penambahan_Harian_Kasus_Terkonf  8622 non-null   float64\n",
      " 5   Kasus_Sembuh_Akumulatif          8622 non-null   float64\n",
      " 6   Penambahan_Harian_Kasus_Sembuh   8622 non-null   float64\n",
      " 7   Kasus_Meninggal_Akumulatif       8622 non-null   float64\n",
      " 8   Penambahan_Harian_Kasus_Meningg  8622 non-null   float64\n",
      " 9   Kasus_Aktif_Akumulatif           8622 non-null   float64\n",
      " 10  CFR_Harian                       8622 non-null   object \n",
      " 11  RI_Harian                        8622 non-null   object \n",
      " 12  FID                              8622 non-null   float64\n",
      " 13  ObjectId                         8657 non-null   int64  \n",
      "dtypes: float64(9), int64(1), object(4)\n",
      "memory usage: 947.0+ KB\n"
     ]
    },
    {
     "data": {
      "text/plain": [
       "Object_ID                          35\n",
       "Provinsi                           35\n",
       "Tanggal                             0\n",
       "Kasus_Terkonfirmasi_Akumulatif     35\n",
       "Penambahan_Harian_Kasus_Terkonf    35\n",
       "Kasus_Sembuh_Akumulatif            35\n",
       "Penambahan_Harian_Kasus_Sembuh     35\n",
       "Kasus_Meninggal_Akumulatif         35\n",
       "Penambahan_Harian_Kasus_Meningg    35\n",
       "Kasus_Aktif_Akumulatif             35\n",
       "CFR_Harian                         35\n",
       "RI_Harian                          35\n",
       "FID                                35\n",
       "ObjectId                            0\n",
       "dtype: int64"
      ]
     },
     "execution_count": 28,
     "metadata": {},
     "output_type": "execute_result"
    }
   ],
   "source": [
    "covid.info()\n",
    "covid.isnull().sum()"
   ]
  },
  {
   "cell_type": "code",
   "execution_count": 29,
   "id": "a5461a31-4de2-4cdc-b430-5fd3a9d8ab7b",
   "metadata": {},
   "outputs": [
    {
     "name": "stdout",
     "output_type": "stream",
     "text": [
      "<class 'pandas.core.frame.DataFrame'>\n",
      "RangeIndex: 39 entries, 0 to 38\n",
      "Data columns (total 10 columns):\n",
      " #   Column    Non-Null Count  Dtype \n",
      "---  ------    --------------  ----- \n",
      " 0   Provinsi  39 non-null     object\n",
      " 1   2018(L)   39 non-null     object\n",
      " 2   2019(L)   39 non-null     object\n",
      " 3   2020(L)   39 non-null     object\n",
      " 4   2018(P)   39 non-null     object\n",
      " 5   2019(P)   39 non-null     object\n",
      " 6   2020(P)   39 non-null     object\n",
      " 7   2018(T)   39 non-null     object\n",
      " 8   2019(T)   39 non-null     object\n",
      " 9   2020(T)   39 non-null     object\n",
      "dtypes: object(10)\n",
      "memory usage: 3.2+ KB\n"
     ]
    },
    {
     "data": {
      "text/plain": [
       "Provinsi    0\n",
       "2018(L)     0\n",
       "2019(L)     0\n",
       "2020(L)     0\n",
       "2018(P)     0\n",
       "2019(P)     0\n",
       "2020(P)     0\n",
       "2018(T)     0\n",
       "2019(T)     0\n",
       "2020(T)     0\n",
       "dtype: int64"
      ]
     },
     "execution_count": 29,
     "metadata": {},
     "output_type": "execute_result"
    }
   ],
   "source": [
    "penduduk.info()\n",
    "penduduk.isnull().sum()"
   ]
  },
  {
   "cell_type": "code",
   "execution_count": 30,
   "id": "55c6f6de-0c4d-420c-892b-0adf264224ce",
   "metadata": {},
   "outputs": [
    {
     "name": "stdout",
     "output_type": "stream",
     "text": [
      "<class 'pandas.core.frame.DataFrame'>\n",
      "RangeIndex: 38 entries, 0 to 37\n",
      "Data columns (total 4 columns):\n",
      " #   Column    Non-Null Count  Dtype \n",
      "---  ------    --------------  ----- \n",
      " 0   Provinsi  38 non-null     object\n",
      " 1   2016      38 non-null     object\n",
      " 2   2019      38 non-null     object\n",
      " 3   2020      38 non-null     object\n",
      "dtypes: object(4)\n",
      "memory usage: 1.3+ KB\n"
     ]
    },
    {
     "data": {
      "text/html": [
       "<div>\n",
       "<style scoped>\n",
       "    .dataframe tbody tr th:only-of-type {\n",
       "        vertical-align: middle;\n",
       "    }\n",
       "\n",
       "    .dataframe tbody tr th {\n",
       "        vertical-align: top;\n",
       "    }\n",
       "\n",
       "    .dataframe thead th {\n",
       "        text-align: right;\n",
       "    }\n",
       "</style>\n",
       "<table border=\"1\" class=\"dataframe\">\n",
       "  <thead>\n",
       "    <tr style=\"text-align: right;\">\n",
       "      <th></th>\n",
       "      <th>Provinsi</th>\n",
       "      <th>2016</th>\n",
       "      <th>2019</th>\n",
       "      <th>2020</th>\n",
       "    </tr>\n",
       "  </thead>\n",
       "  <tbody>\n",
       "    <tr>\n",
       "      <th>0</th>\n",
       "      <td>ACEH</td>\n",
       "      <td>88</td>\n",
       "      <td>93</td>\n",
       "      <td>91</td>\n",
       "    </tr>\n",
       "    <tr>\n",
       "      <th>1</th>\n",
       "      <td>SUMATERA UTARA</td>\n",
       "      <td>193</td>\n",
       "      <td>200</td>\n",
       "      <td>203</td>\n",
       "    </tr>\n",
       "    <tr>\n",
       "      <th>2</th>\n",
       "      <td>SUMATERA BARAT</td>\n",
       "      <td>125</td>\n",
       "      <td>130</td>\n",
       "      <td>132</td>\n",
       "    </tr>\n",
       "    <tr>\n",
       "      <th>3</th>\n",
       "      <td>RIAU</td>\n",
       "      <td>75</td>\n",
       "      <td>80</td>\n",
       "      <td>73</td>\n",
       "    </tr>\n",
       "    <tr>\n",
       "      <th>4</th>\n",
       "      <td>JAMBI</td>\n",
       "      <td>69</td>\n",
       "      <td>72</td>\n",
       "      <td>71</td>\n",
       "    </tr>\n",
       "  </tbody>\n",
       "</table>\n",
       "</div>"
      ],
      "text/plain": [
       "         Provinsi 2016 2019 2020\n",
       "0            ACEH   88   93   91\n",
       "1  SUMATERA UTARA  193  200  203\n",
       "2  SUMATERA BARAT  125  130  132\n",
       "3            RIAU   75   80   73\n",
       "4           JAMBI   69   72   71"
      ]
     },
     "execution_count": 30,
     "metadata": {},
     "output_type": "execute_result"
    }
   ],
   "source": [
    "kepadatan.info()\n",
    "kepadatan.isnull().sum()\n",
    "kepadatan.head(5)"
   ]
  },
  {
   "cell_type": "code",
   "execution_count": 31,
   "id": "a29fde35-cbc8-433d-90cf-9b440751887d",
   "metadata": {},
   "outputs": [],
   "source": [
    "covid = covid[covid['Provinsi'] != 'Indonesia']\n",
    "covid = covid.drop(['Object_ID', 'FID', 'ObjectId'], axis=1)"
   ]
  },
  {
   "cell_type": "code",
   "execution_count": 32,
   "id": "e9a3c43a-96bf-47c3-9d10-0b4567871789",
   "metadata": {},
   "outputs": [],
   "source": [
    "# handling missing value\n",
    "covid = covid.replace('#DIV/0!', np.nan)\n",
    "covid = covid.fillna(0.0) # Mengganti NaN dengan 0.0\n",
    "covid = covid.dropna(subset=['Tanggal']) "
   ]
  },
  {
   "cell_type": "code",
   "execution_count": 33,
   "id": "4b0d3580-9c1f-4247-9a37-eb5f6fd9abda",
   "metadata": {},
   "outputs": [
    {
     "name": "stdout",
     "output_type": "stream",
     "text": [
      "\n",
      "--- Data COVID-19 Setelah Filter Tanggal ---\n",
      "                    Provinsi                   Tanggal  \\\n",
      "0                       Aceh 2020-03-02 00:00:00+00:00   \n",
      "1                       Bali 2020-03-02 00:00:00+00:00   \n",
      "2                     Banten 2020-03-02 00:00:00+00:00   \n",
      "3  Kepulauan Bangka Belitung 2020-03-02 00:00:00+00:00   \n",
      "4                   Bengkulu 2020-03-02 00:00:00+00:00   \n",
      "\n",
      "   Kasus_Terkonfirmasi_Akumulatif  Penambahan_Harian_Kasus_Terkonf  \\\n",
      "0                             0.0                              0.0   \n",
      "1                             0.0                              0.0   \n",
      "2                             0.0                              0.0   \n",
      "3                             0.0                              0.0   \n",
      "4                             0.0                              0.0   \n",
      "\n",
      "   Kasus_Sembuh_Akumulatif  Penambahan_Harian_Kasus_Sembuh  \\\n",
      "0                      0.0                             0.0   \n",
      "1                      0.0                             0.0   \n",
      "2                      0.0                             0.0   \n",
      "3                      0.0                             0.0   \n",
      "4                      0.0                             0.0   \n",
      "\n",
      "   Kasus_Meninggal_Akumulatif  Penambahan_Harian_Kasus_Meningg  \\\n",
      "0                         0.0                              0.0   \n",
      "1                         0.0                              0.0   \n",
      "2                         0.0                              0.0   \n",
      "3                         0.0                              0.0   \n",
      "4                         0.0                              0.0   \n",
      "\n",
      "   Kasus_Aktif_Akumulatif CFR_Harian RI_Harian  \n",
      "0                     0.0        0.0       0.0  \n",
      "1                     0.0        0.0       0.0  \n",
      "2                     0.0        0.0       0.0  \n",
      "3                     0.0        0.0       0.0  \n",
      "4                     0.0        0.0       0.0  \n",
      "                 Provinsi                   Tanggal  \\\n",
      "8652          Papua Barat 2020-11-13 00:00:00+00:00   \n",
      "8653                Papua 2020-11-13 00:00:00+00:00   \n",
      "8654       Sulawesi Barat 2020-11-13 00:00:00+00:00   \n",
      "8655  Nusa Tenggara Timur 2020-11-13 00:00:00+00:00   \n",
      "8656            Gorontalo 2020-11-13 00:00:00+00:00   \n",
      "\n",
      "      Kasus_Terkonfirmasi_Akumulatif  Penambahan_Harian_Kasus_Terkonf  \\\n",
      "8652                          4615.0                           3380.0   \n",
      "8653                          9408.0                           8125.0   \n",
      "8654                          1295.0                            517.0   \n",
      "8655                           805.0                             12.0   \n",
      "8656                          3054.0                              9.0   \n",
      "\n",
      "      Kasus_Sembuh_Akumulatif  Penambahan_Harian_Kasus_Sembuh  \\\n",
      "8652                   3936.0                          3061.0   \n",
      "8653                   4905.0                          4025.0   \n",
      "8654                    894.0                           322.0   \n",
      "8655                    586.0                             2.0   \n",
      "8656                   2891.0                            19.0   \n",
      "\n",
      "      Kasus_Meninggal_Akumulatif  Penambahan_Harian_Kasus_Meningg  \\\n",
      "8652                        71.0                             55.0   \n",
      "8653                       136.0                            120.0   \n",
      "8654                        17.0                              6.0   \n",
      "8655                        11.0                              0.0   \n",
      "8656                        86.0                              0.0   \n",
      "\n",
      "      Kasus_Aktif_Akumulatif          CFR_Harian          RI_Harian  \n",
      "8652                   608.0  1.5384615384615385  85.28710725893825  \n",
      "8653                  4367.0   1.445578231292517  52.13647959183674  \n",
      "8654                   384.0  1.3127413127413128  69.03474903474903  \n",
      "8655                   208.0  1.3664596273291925  72.79503105590062  \n",
      "8656                    77.0  2.8159790438768826  94.66273739358219  \n"
     ]
    }
   ],
   "source": [
    "# --- Langkah 4: Filter Tanggal ---\n",
    "covid['Tanggal'] = pd.to_datetime(covid['Tanggal'])\n",
    "start_date = '2020-03-02'\n",
    "end_date = '2020-11-13'\n",
    "covid = covid[(covid['Tanggal'] >= start_date) & (covid['Tanggal'] <= end_date)]\n",
    "\n",
    "print(\"\\n--- Data COVID-19 Setelah Filter Tanggal ---\")\n",
    "print(covid.head())\n",
    "print(covid.tail())"
   ]
  },
  {
   "cell_type": "code",
   "execution_count": 34,
   "id": "6b8ce063-03ce-4154-b723-cd884bb94af8",
   "metadata": {},
   "outputs": [
    {
     "name": "stdout",
     "output_type": "stream",
     "text": [
      "\n",
      "--- Data COVID-19 Setelah Agregasi ---\n",
      "      Provinsi                   Tanggal  Kasus_Terkonfirmasi_Akumulatif  \\\n",
      "0         Aceh 2020-11-13 00:00:00+00:00                          7797.0   \n",
      "1         Bali 2020-11-13 00:00:00+00:00                         12519.0   \n",
      "2       Banten 2020-11-13 00:00:00+00:00                         10554.0   \n",
      "3     Bengkulu 2020-11-13 00:00:00+00:00                          1294.0   \n",
      "4  DKI Jakarta 2020-11-13 00:00:00+00:00                        115174.0   \n",
      "\n",
      "   Penambahan_Harian_Kasus_Terkonf  Kasus_Sembuh_Akumulatif  \\\n",
      "0                           3254.0                   6258.0   \n",
      "1                           8324.0                  11461.0   \n",
      "2                           6268.0                   8141.0   \n",
      "3                          -7015.0                    992.0   \n",
      "4                          99155.0                 106100.0   \n",
      "\n",
      "   Penambahan_Harian_Kasus_Sembuh  Kasus_Meninggal_Akumulatif  \\\n",
      "0                          3188.0                       282.0   \n",
      "1                          7924.0                       403.0   \n",
      "2                          4601.0                       298.0   \n",
      "3                         -5762.0                        59.0   \n",
      "4                         93246.0                      2412.0   \n",
      "\n",
      "   Penambahan_Harian_Kasus_Meningg  Kasus_Aktif_Akumulatif  \\\n",
      "0                            172.0                  1257.0   \n",
      "1                            174.0                   655.0   \n",
      "2                             69.0                  2115.0   \n",
      "3                           -389.0                   243.0   \n",
      "4                           2109.0                  6662.0   \n",
      "\n",
      "           CFR_Harian          RI_Harian  \n",
      "0   3.616775682954983  80.26163909195844  \n",
      "1  3.2191069574247146  91.54884575445324  \n",
      "2  2.8235740003790033  77.13663066136061  \n",
      "3   4.559505409582689  76.66151468315302  \n",
      "4   2.094222654418532  92.12148575199264  \n",
      "             Provinsi                   Tanggal  \\\n",
      "29  Sulawesi Tenggara 2020-11-13 00:00:00+00:00   \n",
      "30     Sulawesi Utara 2020-11-13 00:00:00+00:00   \n",
      "31     Sumatera Barat 2020-11-13 00:00:00+00:00   \n",
      "32   Sumatera Selatan 2020-11-13 00:00:00+00:00   \n",
      "33     Sumatera Utara 2020-11-13 00:00:00+00:00   \n",
      "\n",
      "    Kasus_Terkonfirmasi_Akumulatif  Penambahan_Harian_Kasus_Terkonf  \\\n",
      "29                          5529.0                           3289.0   \n",
      "30                          5827.0                         -10227.0   \n",
      "31                         16709.0                            965.0   \n",
      "32                          8534.0                           6369.0   \n",
      "33                         14051.0                          11776.0   \n",
      "\n",
      "    Kasus_Sembuh_Akumulatif  Penambahan_Harian_Kasus_Sembuh  \\\n",
      "29                   4390.0                          2444.0   \n",
      "30                   4861.0                         -8902.0   \n",
      "31                  13386.0                           253.0   \n",
      "32                   6954.0                          5705.0   \n",
      "33                  11509.0                          9563.0   \n",
      "\n",
      "    Kasus_Meninggal_Akumulatif  Penambahan_Harian_Kasus_Meningg  \\\n",
      "29                        88.0                             13.0   \n",
      "30                       216.0                           -159.0   \n",
      "31                       311.0                            -53.0   \n",
      "32                       461.0                            364.0   \n",
      "33                       572.0                            497.0   \n",
      "\n",
      "    Kasus_Aktif_Akumulatif          CFR_Harian          RI_Harian  \n",
      "29                  1051.0  1.5916078856936153  79.39952975221559  \n",
      "30                   750.0  3.7068817573365367  83.42200102968937  \n",
      "31                  3012.0  1.8612723681848107   80.1125142138967  \n",
      "32                  1119.0   5.401921724865245  81.48582142020155  \n",
      "33                  1970.0   4.070884634545584  81.90876094228169  \n"
     ]
    }
   ],
   "source": [
    "covid_agg = covid.groupby('Provinsi').last().reset_index()\n",
    "\n",
    "print(\"\\n--- Data COVID-19 Setelah Agregasi ---\")\n",
    "print(covid_agg.head())\n",
    "print(covid_agg.tail())"
   ]
  },
  {
   "cell_type": "code",
   "execution_count": 35,
   "id": "8f2157c2-91e6-4295-ad59-a6b30bbb4686",
   "metadata": {},
   "outputs": [
    {
     "name": "stdout",
     "output_type": "stream",
     "text": [
      "\n",
      "--- Data Setelah Merge dengan Data Penduduk & Kepadatan ---\n",
      "      Provinsi                   Tanggal  Kasus_Terkonfirmasi_Akumulatif  \\\n",
      "0         aceh 2020-11-13 00:00:00+00:00                          7797.0   \n",
      "1         bali 2020-11-13 00:00:00+00:00                         12519.0   \n",
      "2       banten 2020-11-13 00:00:00+00:00                         10554.0   \n",
      "3     bengkulu 2020-11-13 00:00:00+00:00                          1294.0   \n",
      "4  dki jakarta 2020-11-13 00:00:00+00:00                        115174.0   \n",
      "\n",
      "   Penambahan_Harian_Kasus_Terkonf  Kasus_Sembuh_Akumulatif  \\\n",
      "0                           3254.0                   6258.0   \n",
      "1                           8324.0                  11461.0   \n",
      "2                           6268.0                   8141.0   \n",
      "3                          -7015.0                    992.0   \n",
      "4                          99155.0                 106100.0   \n",
      "\n",
      "   Penambahan_Harian_Kasus_Sembuh  Kasus_Meninggal_Akumulatif  \\\n",
      "0                          3188.0                       282.0   \n",
      "1                          7924.0                       403.0   \n",
      "2                          4601.0                       298.0   \n",
      "3                         -5762.0                        59.0   \n",
      "4                         93246.0                      2412.0   \n",
      "\n",
      "   Penambahan_Harian_Kasus_Meningg  Kasus_Aktif_Akumulatif  \\\n",
      "0                            172.0                  1257.0   \n",
      "1                            174.0                   655.0   \n",
      "2                             69.0                  2115.0   \n",
      "3                           -389.0                   243.0   \n",
      "4                           2109.0                  6662.0   \n",
      "\n",
      "           CFR_Harian          RI_Harian Jumlah_Penduduk_2020  \\\n",
      "0   3.616775682954983  80.26163909195844               5388.1   \n",
      "1  3.2191069574247146  91.54884575445324               4414.4   \n",
      "2  2.8235740003790033  77.13663066136061              12895.3   \n",
      "3   4.559505409582689  76.66151468315302               1994.3   \n",
      "4   2.094222654418532  92.12148575199264              10576.4   \n",
      "\n",
      "  Kepadatan_Penduduk_2020  \n",
      "0                      91  \n",
      "1                     747  \n",
      "2                    1232  \n",
      "3                     101  \n",
      "4                   15907  \n"
     ]
    }
   ],
   "source": [
    "# Preprocessing Data Penduduk & Kepadatan\n",
    "penduduk_2020 = penduduk[['Provinsi', '2020(T)']].rename(columns={'2020(T)': 'Jumlah_Penduduk_2020'})\n",
    "kepadatan_2020 = kepadatan[['Provinsi', '2020']].rename(columns={'2020': 'Kepadatan_Penduduk_2020'})\n",
    "\n",
    "# Ganti nilai '-' dengan NaN\n",
    "penduduk_2020 = penduduk_2020.replace('-', np.nan)\n",
    "kepadatan_2020 = kepadatan_2020.replace('-', np.nan)\n",
    "\n",
    "# Standarisasi nama provinsi \n",
    "covid_agg['Provinsi'] = covid_agg['Provinsi'].str.lower()\n",
    "penduduk_2020['Provinsi'] = penduduk_2020['Provinsi'].str.lower()\n",
    "kepadatan_2020['Provinsi'] = kepadatan_2020['Provinsi'].str.lower()\n",
    "\n",
    "\n",
    "# Merge Data \n",
    "data = pd.merge(covid_agg, penduduk_2020, on='Provinsi', how='left')\n",
    "data = pd.merge(data, kepadatan_2020, on='Provinsi', how='left')\n",
    "\n",
    "\n",
    "# Mengatasi provinsi baru dan yang tidak ada data penduduk/kepadatan\n",
    "data.dropna(subset=['Jumlah_Penduduk_2020','Kepadatan_Penduduk_2020'], inplace=True)\n",
    "\n",
    "print(\"\\n--- Data Setelah Merge dengan Data Penduduk & Kepadatan ---\")\n",
    "print(data.head())\n"
   ]
  },
  {
   "cell_type": "code",
   "execution_count": 36,
   "id": "ba6d6580-a482-48a7-9ab7-8695f5d47b02",
   "metadata": {},
   "outputs": [
    {
     "name": "stdout",
     "output_type": "stream",
     "text": [
      "\n",
      "--- Fitur yang digunakan ---\n",
      "   Kasus_Terkonfirmasi_Akumulatif  Penambahan_Harian_Kasus_Terkonf  \\\n",
      "0                          7797.0                           3254.0   \n",
      "1                         12519.0                           8324.0   \n",
      "2                         10554.0                           6268.0   \n",
      "3                          1294.0                          -7015.0   \n",
      "4                        115174.0                          99155.0   \n",
      "\n",
      "   Kasus_Meninggal_Akumulatif  Jumlah_Penduduk_2020  Kepadatan_Penduduk_2020  \n",
      "0                       282.0                5388.1                       91  \n",
      "1                       403.0                4414.4                      747  \n",
      "2                       298.0               12895.3                     1232  \n",
      "3                        59.0                1994.3                      101  \n",
      "4                      2412.0               10576.4                    15907  \n",
      "\n",
      "--- Data Fitur Setelah Scaling ---\n",
      "[[0.06113545 0.15422267 0.06845163 0.09578401 0.00515788]\n",
      " [0.10242286 0.1989364  0.0990149  0.07585433 0.04642093]\n",
      " [0.08524163 0.18080397 0.07249305 0.24944122 0.07692792]\n",
      " [0.00427563 0.06365753 0.01212427 0.02631978 0.00578689]\n",
      " [1.         1.         0.60646628 0.20197803 1.        ]]\n"
     ]
    },
    {
     "name": "stderr",
     "output_type": "stream",
     "text": [
      "C:\\Users\\ASUS\\AppData\\Local\\Temp\\ipykernel_17756\\4179877430.py:6: SettingWithCopyWarning: \n",
      "A value is trying to be set on a copy of a slice from a DataFrame.\n",
      "Try using .loc[row_indexer,col_indexer] = value instead\n",
      "\n",
      "See the caveats in the documentation: https://pandas.pydata.org/pandas-docs/stable/user_guide/indexing.html#returning-a-view-versus-a-copy\n",
      "  X['Jumlah_Penduduk_2020'] = pd.to_numeric(X['Jumlah_Penduduk_2020'])\n",
      "C:\\Users\\ASUS\\AppData\\Local\\Temp\\ipykernel_17756\\4179877430.py:7: SettingWithCopyWarning: \n",
      "A value is trying to be set on a copy of a slice from a DataFrame.\n",
      "Try using .loc[row_indexer,col_indexer] = value instead\n",
      "\n",
      "See the caveats in the documentation: https://pandas.pydata.org/pandas-docs/stable/user_guide/indexing.html#returning-a-view-versus-a-copy\n",
      "  X['Kepadatan_Penduduk_2020'] = pd.to_numeric(X['Kepadatan_Penduduk_2020'])\n"
     ]
    }
   ],
   "source": [
    "#  Pilih Fitur dan Normalisasi \n",
    "features = ['Kasus_Terkonfirmasi_Akumulatif', 'Penambahan_Harian_Kasus_Terkonf', 'Kasus_Meninggal_Akumulatif', 'Jumlah_Penduduk_2020', 'Kepadatan_Penduduk_2020']\n",
    "X = data[features]\n",
    "\n",
    "# Konversi tipe data ke numerik\n",
    "X['Jumlah_Penduduk_2020'] = pd.to_numeric(X['Jumlah_Penduduk_2020'])\n",
    "X['Kepadatan_Penduduk_2020'] = pd.to_numeric(X['Kepadatan_Penduduk_2020'])\n",
    "\n",
    "print(\"\\n--- Fitur yang digunakan ---\")\n",
    "print(X.head())\n",
    "scaler = MinMaxScaler()\n",
    "X_scaled = scaler.fit_transform(X)\n",
    "\n",
    "print(\"\\n--- Data Fitur Setelah Scaling ---\")\n",
    "print(X_scaled[:5,:])"
   ]
  },
  {
   "cell_type": "code",
   "execution_count": 37,
   "id": "ce7ed772-d69a-48c5-b56c-6e616ab1f565",
   "metadata": {},
   "outputs": [
    {
     "name": "stderr",
     "output_type": "stream",
     "text": [
      "C:\\Users\\ASUS\\anaconda3\\Lib\\site-packages\\sklearn\\cluster\\_kmeans.py:870: FutureWarning: The default value of `n_init` will change from 10 to 'auto' in 1.4. Set the value of `n_init` explicitly to suppress the warning\n",
      "  warnings.warn(\n",
      "C:\\Users\\ASUS\\anaconda3\\Lib\\site-packages\\sklearn\\cluster\\_kmeans.py:1382: UserWarning: KMeans is known to have a memory leak on Windows with MKL, when there are less chunks than available threads. You can avoid it by setting the environment variable OMP_NUM_THREADS=1.\n",
      "  warnings.warn(\n"
     ]
    }
   ],
   "source": [
    "# -Clustering dengan K-Means \n",
    "kmeans = KMeans(n_clusters=4, random_state=0)\n",
    "data['Cluster'] = kmeans.fit_predict(X_scaled)"
   ]
  },
  {
   "cell_type": "code",
   "execution_count": 38,
   "id": "24cdd83b-b5f6-4bf5-b152-576620c54c76",
   "metadata": {},
   "outputs": [
    {
     "name": "stdout",
     "output_type": "stream",
     "text": [
      "\n",
      "--- Centroid Cluster ---\n",
      "   Kasus_Terkonfirmasi_Akumulatif  Penambahan_Harian_Kasus_Terkonf  \\\n",
      "0                     7013.555556                      1067.074074   \n",
      "1                    55575.000000                     41832.000000   \n",
      "2                   115174.000000                     99155.000000   \n",
      "3                    41180.000000                     31375.000000   \n",
      "\n",
      "   Kasus_Meninggal_Akumulatif  Jumlah_Penduduk_2020  Kepadatan_Penduduk_2020  \n",
      "0                  207.555556           4706.266667               162.444444  \n",
      "1                 3970.000000          39955.900000               851.000000  \n",
      "2                 2412.000000          10576.400000             15907.000000  \n",
      "3                 1356.500000          42151.700000              1239.000000  \n"
     ]
    }
   ],
   "source": [
    "#  Langkah 9: Analisis Centroid \n",
    "centroids = pd.DataFrame(scaler.inverse_transform(kmeans.cluster_centers_), columns=features)\n",
    "print(\"\\n--- Centroid Cluster ---\")\n",
    "print(centroids)"
   ]
  },
  {
   "cell_type": "code",
   "execution_count": 39,
   "id": "47a75565-f5ea-4d6d-a243-55f8d7238e77",
   "metadata": {},
   "outputs": [
    {
     "data": {
      "image/png": "[encoded data removed]",
      "text/plain": [
       "<Figure size 640x480 with 1 Axes>"
      ]
     },
     "metadata": {},
     "output_type": "display_data"
    },
    {
     "name": "stdout",
     "output_type": "stream",
     "text": [
      "\n",
      "--- Data dengan Cluster ---\n",
      "               Provinsi  Cluster\n",
      "0                  aceh        0\n",
      "1                  bali        0\n",
      "2                banten        0\n",
      "3              bengkulu        0\n",
      "4           dki jakarta        2\n",
      "6             gorontalo        0\n",
      "7                 jambi        0\n",
      "8            jawa barat        3\n",
      "9           jawa tengah        3\n",
      "10           jawa timur        1\n",
      "11     kalimantan barat        0\n",
      "12   kalimantan selatan        0\n",
      "13    kalimantan tengah        0\n",
      "14     kalimantan timur        0\n",
      "15     kalimantan utara        0\n",
      "18              lampung        0\n",
      "19               maluku        0\n",
      "20         maluku utara        0\n",
      "21  nusa tenggara barat        0\n",
      "22  nusa tenggara timur        0\n",
      "23                papua        0\n",
      "24          papua barat        0\n",
      "25                 riau        0\n",
      "26       sulawesi barat        0\n",
      "27     sulawesi selatan        0\n",
      "28      sulawesi tengah        0\n",
      "29    sulawesi tenggara        0\n",
      "30       sulawesi utara        0\n",
      "31       sumatera barat        0\n",
      "32     sumatera selatan        0\n",
      "33       sumatera utara        0\n"
     ]
    }
   ],
   "source": [
    "# Visualisasi \n",
    "plt.scatter(X_scaled[:, 0], X_scaled[:, 1], c=data['Cluster'], cmap='viridis')\n",
    "plt.scatter(kmeans.cluster_centers_[:, 0], kmeans.cluster_centers_[:, 1], s=200, c='red', marker='X', label='Centroids')\n",
    "plt.xlabel(features[0])\n",
    "plt.ylabel(features[1])\n",
    "plt.title('Visualisasi Cluster')\n",
    "plt.legend()\n",
    "plt.show()\n",
    "\n",
    "print(\"\\n--- Data dengan Cluster ---\")\n",
    "print(data[['Provinsi','Cluster']])"
   ]
  }
 ],
 "metadata": {
  "kernelspec": {
   "display_name": "Python 3 (ipykernel)",
   "language": "python",
   "name": "python3"
  },
  "language_info": {
   "codemirror_mode": {
    "name": "ipython",
    "version": 3
   },
   "file_extension": ".py",
   "mimetype": "text/x-python",
   "name": "python",
   "nbconvert_exporter": "python",
   "pygments_lexer": "ipython3",
   "version": "3.11.7"
  }
 },
 "nbformat": 4,
 "nbformat_minor": 5
}
